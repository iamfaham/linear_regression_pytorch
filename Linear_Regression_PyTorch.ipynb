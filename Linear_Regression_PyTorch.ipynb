{
  "cells": [
    {
      "cell_type": "markdown",
      "metadata": {
        "id": "view-in-github",
        "colab_type": "text"
      },
      "source": [
        "<a href=\"https://colab.research.google.com/github/iamfaham/linear_regression_pytorch/blob/main/Linear_Regression_PyTorch.ipynb\" target=\"_parent\"><img src=\"https://colab.research.google.com/assets/colab-badge.svg\" alt=\"Open In Colab\"/></a>"
      ]
    },
    {
      "cell_type": "markdown",
      "metadata": {
        "id": "31e04d1b"
      },
      "source": [
        "## Linear Regression with PyTorch\n",
        "This notebook demonstrates Linear Regression using PyTorch."
      ]
    },
    {
      "cell_type": "code",
      "execution_count": 8,
      "metadata": {
        "id": "Tv7dqZLtvn3t"
      },
      "outputs": [],
      "source": [
        "import torch\n",
        "import torch.nn as nn\n",
        "from matplotlib import pyplot as plt"
      ]
    },
    {
      "cell_type": "markdown",
      "metadata": {
        "id": "eb20d5bb"
      },
      "source": [
        "### Data Generation\n",
        "We generate a simple linear dataset (toy dataset) with some noise and split it into training and validation sets."
      ]
    },
    {
      "cell_type": "code",
      "execution_count": 9,
      "metadata": {
        "colab": {
          "base_uri": "https://localhost:8080/"
        },
        "id": "LkkUqXeBv5_4",
        "outputId": "889c64db-c583-4e13-9ab0-7435088044ea"
      },
      "outputs": [
        {
          "output_type": "execute_result",
          "data": {
            "text/plain": [
              "(200, 50)"
            ]
          },
          "metadata": {},
          "execution_count": 9
        }
      ],
      "source": [
        "# 1) Generate data\n",
        "N = 250\n",
        "x = torch.linspace(0, 15, N).reshape(-1, 1)\n",
        "y_true = 3*x + 2 + 0.4*torch.randn(x.size())\n",
        "\n",
        "# Splitting dataset into training and validation sets\n",
        "train_split = int(0.8 * len(x))\n",
        "x_train, y_train = x[:train_split], y_true[:train_split]\n",
        "x_val, y_val = x[train_split:], y_true[train_split:]\n",
        "len(x_train), len(x_val)"
      ]
    },
    {
      "cell_type": "markdown",
      "metadata": {
        "id": "7f63351c"
      },
      "source": [
        "### Model Definition\n",
        "We define a simple linear regression model using `torch.nn.Linear`, which consists of a single neuron."
      ]
    },
    {
      "cell_type": "code",
      "execution_count": 10,
      "metadata": {
        "id": "8GcN_qwFz_kl"
      },
      "outputs": [],
      "source": [
        "# 2) Creating the model\n",
        "linear_regression_model = nn.Linear(1,1)"
      ]
    },
    {
      "cell_type": "markdown",
      "metadata": {
        "id": "c3ccf795"
      },
      "source": [
        "### Loss Function and Optimizer\n",
        "Here, we are using Mean Squared Error (MSE) as the loss function, and Stochastic Gradient Descent (SGD) as the optimizer."
      ]
    },
    {
      "cell_type": "code",
      "execution_count": 11,
      "metadata": {
        "id": "j597yTmd1Yml"
      },
      "outputs": [],
      "source": [
        "# 3) Loss function and optimizer\n",
        "loss_function = nn.MSELoss()\n",
        "optimizer = torch.optim.SGD(linear_regression_model.parameters(), lr=0.01)"
      ]
    },
    {
      "cell_type": "markdown",
      "metadata": {
        "id": "dcf5697f"
      },
      "source": [
        "### Training Loop\n",
        "We train the model for 700 epochs, updating the weights using backpropagation and gradient descent."
      ]
    },
    {
      "cell_type": "code",
      "execution_count": 12,
      "metadata": {
        "colab": {
          "base_uri": "https://localhost:8080/"
        },
        "id": "E_KvQhm1QnRP",
        "outputId": "4990ea87-a490-465b-b425-3417fb0027f3"
      },
      "outputs": [
        {
          "output_type": "stream",
          "name": "stdout",
          "text": [
            "Epoch 0, Loss 360.2873\n",
            "Epoch 50, Loss 0.3030\n",
            "Epoch 100, Loss 0.2504\n",
            "Epoch 150, Loss 0.2185\n",
            "Epoch 200, Loss 0.1990\n",
            "Epoch 250, Loss 0.1872\n",
            "Epoch 300, Loss 0.1800\n",
            "Epoch 350, Loss 0.1756\n",
            "Epoch 400, Loss 0.1729\n",
            "Epoch 450, Loss 0.1713\n",
            "Epoch 500, Loss 0.1703\n",
            "Epoch 550, Loss 0.1697\n",
            "Epoch 600, Loss 0.1694\n",
            "Epoch 650, Loss 0.1691\n"
          ]
        }
      ],
      "source": [
        "# 4) Training loop\n",
        "for epoch in range(700):\n",
        "  linear_regression_model.train()     # Training mode\n",
        "  y_pred = linear_regression_model(x_train)\n",
        "  loss = loss_function(y_pred, y_train)\n",
        "  optimizer.zero_grad()\n",
        "  loss.backward()\n",
        "  optimizer.step()\n",
        "  if epoch % 50 == 0:\n",
        "    print(f\"Epoch {epoch}, Loss {loss.item():.4f}\")"
      ]
    },
    {
      "cell_type": "markdown",
      "metadata": {
        "id": "IoYqAPOBlMnz"
      },
      "source": [
        "The loss is decreasing steadily, which is a good sign for our model.\n",
        "\n",
        "\n",
        "\n"
      ]
    },
    {
      "cell_type": "markdown",
      "metadata": {
        "id": "72e4a489"
      },
      "source": [
        "### Visualization\n",
        "We plot the validation data, along with the fitted regression line."
      ]
    },
    {
      "cell_type": "code",
      "execution_count": 13,
      "metadata": {
        "colab": {
          "base_uri": "https://localhost:8080/",
          "height": 472
        },
        "id": "vlyuanVYafFP",
        "outputId": "fd9b4690-db61-4d6c-db3c-d02eac15e65f"
      },
      "outputs": [
        {
          "output_type": "display_data",
          "data": {
            "text/plain": [
              "<Figure size 640x480 with 1 Axes>"
            ],
            "image/png": "[encoded data removed]"
          },
          "metadata": {}
        }
      ],
      "source": [
        "# 5) Plotting the graph\n",
        "x_values = x_val.numpy()\n",
        "y_pred_values = linear_regression_model(x_val).detach().numpy()\n",
        "y_true_values = y_val.numpy()\n",
        "\n",
        "# Plot for validation data / data points\n",
        "plt.scatter(x_values, y_true_values, s=4, label=\"Ground Truth\", color=\"cyan\")\n",
        "\n",
        "# Plot for fitted regression line across data points\n",
        "plt.plot(x_values, y_pred_values, label=\"Fitted Line\", color=\"red\")\n",
        "\n",
        "plt.xlabel(\"X\")\n",
        "plt.ylabel(\"Y\")\n",
        "plt.title(\"Linear Regression\")\n",
        "plt.legend()\n",
        "plt.show()\n"
      ]
    },
    {
      "cell_type": "markdown",
      "metadata": {
        "id": "221c1f7a"
      },
      "source": [
        "### Evaluation\n",
        "After training, we evaluate the model on the validation set to compute the final loss."
      ]
    },
    {
      "cell_type": "code",
      "execution_count": 14,
      "metadata": {
        "colab": {
          "base_uri": "https://localhost:8080/"
        },
        "id": "Xwn3nmk-12zY",
        "outputId": "22ba00d1-e294-404e-9dab-8478380adfea"
      },
      "outputs": [
        {
          "output_type": "stream",
          "name": "stdout",
          "text": [
            "w = 3.005, b = 2.022\n",
            "w_true = 3.000, b_true = 2.000\n",
            "Difference:  w = 0.005, b = 0.022\n"
          ]
        }
      ],
      "source": [
        "# 6) Evaluation and difference calculation\n",
        "linear_regression_model.eval()    # Evaluation mode\n",
        "with torch.inference_mode():\n",
        "  w_true, b_true = 3, 2     # Values from the equation y = 3x + 2 + e\n",
        "  w, b = linear_regression_model.weight.item(), linear_regression_model.bias.item()\n",
        "  print(f\"w = {w:.3f}, b = {b:.3f}\")\n",
        "  print(f\"w_true = {w_true:.3f}, b_true = {b_true:.3f}\")\n",
        "  print(\"Difference: \", f\"w = {(w-w_true):.3f}, b = {(b-b_true):.3f}\")"
      ]
    },
    {
      "cell_type": "markdown",
      "metadata": {
        "id": "-IMVpw5Qlujt"
      },
      "source": [
        "The above comparison shows that there is just a minimal difference between actual weights and bias and the predicted ones. Hence our model training is successful."
      ]
    }
  ],
  "metadata": {
    "colab": {
      "provenance": [],
      "include_colab_link": true
    },
    "kernelspec": {
      "display_name": "Python 3",
      "name": "python3"
    },
    "language_info": {
      "name": "python"
    }
  },
  "nbformat": 4,
  "nbformat_minor": 0
}